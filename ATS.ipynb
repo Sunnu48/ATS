{
  "nbformat": 4,
  "nbformat_minor": 0,
  "metadata": {
    "colab": {
      "provenance": [],
      "authorship_tag": "ABX9TyMV9ywP5+uzoX5g1EwjwOS0",
      "include_colab_link": true
    },
    "kernelspec": {
      "name": "python3",
      "display_name": "Python 3"
    },
    "language_info": {
      "name": "python"
    }
  },
  "cells": [
    {
      "cell_type": "markdown",
      "metadata": {
        "id": "view-in-github",
        "colab_type": "text"
      },
      "source": [
        "<a href=\"https://colab.research.google.com/github/Sunnu48/ATS/blob/main/ATS.ipynb\" target=\"_parent\"><img src=\"https://colab.research.google.com/assets/colab-badge.svg\" alt=\"Open In Colab\"/></a>"
      ]
    },
    {
      "cell_type": "code",
      "source": [],
      "metadata": {
        "id": "yObU6SpsSF1R"
      },
      "execution_count": null,
      "outputs": []
    },
    {
      "cell_type": "markdown",
      "source": [
        "ATS\n",
        "-This application check if resume is ATS\n",
        "-How closely the resume matches the Job"
      ],
      "metadata": {
        "id": "f_Ai7rlKSjoe"
      }
    },
    {
      "cell_type": "code",
      "source": [
        "pip install docx2txt"
      ],
      "metadata": {
        "colab": {
          "base_uri": "https://localhost:8080/"
        },
        "id": "PprIvVX7StHW",
        "outputId": "7e4f1dd3-e532-4cc7-d6b6-940bb53ca2e5"
      },
      "execution_count": 3,
      "outputs": [
        {
          "output_type": "stream",
          "name": "stdout",
          "text": [
            "Collecting docx2txt\n",
            "  Downloading docx2txt-0.8.tar.gz (2.8 kB)\n",
            "  Preparing metadata (setup.py) ... \u001b[?25l\u001b[?25hdone\n",
            "Building wheels for collected packages: docx2txt\n",
            "  Building wheel for docx2txt (setup.py) ... \u001b[?25l\u001b[?25hdone\n",
            "  Created wheel for docx2txt: filename=docx2txt-0.8-py3-none-any.whl size=3960 sha256=cfb84579dc02eb9ed013bd8d6e6c7cfcfc672f3a77298317a0f5bfc772c59fe2\n",
            "  Stored in directory: /root/.cache/pip/wheels/22/58/cf/093d0a6c3ecfdfc5f6ddd5524043b88e59a9a199cb02352966\n",
            "Successfully built docx2txt\n",
            "Installing collected packages: docx2txt\n",
            "Successfully installed docx2txt-0.8\n"
          ]
        }
      ]
    },
    {
      "cell_type": "code",
      "source": [
        "import docx2txt"
      ],
      "metadata": {
        "id": "1O60ZHdrWJg6"
      },
      "execution_count": 4,
      "outputs": []
    },
    {
      "cell_type": "code",
      "source": [
        "resume=docx2txt.process(\"/content/Sunit Kumar Python developer.docx\")"
      ],
      "metadata": {
        "id": "yI7Ur8xkWbHx"
      },
      "execution_count": 5,
      "outputs": []
    },
    {
      "cell_type": "code",
      "source": [
        "print(resume)"
      ],
      "metadata": {
        "colab": {
          "base_uri": "https://localhost:8080/"
        },
        "id": "x_F75-tmWu3z",
        "outputId": "632a014a-c55e-4a19-d955-14896c84ac15"
      },
      "execution_count": 6,
      "outputs": [
        {
          "output_type": "stream",
          "name": "stdout",
          "text": [
            "Sunit Kumar\n",
            "\n",
            "\tLiverpool, United Kingdom | Linkedin | GitHub|+44 7405079382 | sunitgeorgian2948@gmail.com\n",
            "\n",
            "\n",
            "\n",
            "\tWORK EXPERIENCE\n",
            "\n",
            "\tEdifecs\tMohali, India\n",
            "\n",
            "\tAssociate Software Engineer\t (March 2022 – September 2022)\n",
            "\n",
            "\tUtilized Java Spring boot to code encounters in Encounter Management software, leading to a 95% decrease in coding errors and enhanced end-to-end patient data exchange.\n",
            "\n",
            "\tResolved over 100 user-reported issues, resulting in a 90% reduction in complaints and increased software efficiency.\n",
            "\n",
            "\tImproved database efficiency by 30% and enhanced data security through SQL database management for Encounter Management.\n",
            "\n",
            "\tUtilized a tech stack including Java, Spring Boot, Hibernate, Apache Kafka, JavaScript, RESTful API, HTML5, CSS, and SQL Server.\n",
            "\n",
            "\tWipro Limited\tGurugram, India\n",
            "\n",
            "\tAssociate Consultant\t(November 2020 – March 2022)\n",
            "\n",
            "\tContributed significantly to backend development for the Solarc Right Angle Application in the energy trading sector, leveraging C#, Microsoft SQL, and .NET Framework, resulting in a 25% improvement in application performance.\n",
            "\n",
            "\tDeveloped SQL stored procedures, views, functions, and queries, enhancing the functionality of the Right-Angle Application and reducing data retrieval time by 20%.\n",
            "\n",
            "\tActively participated as a key member of the on-call team, resolving production issues and contributing to a 10% increase in system reliability.\n",
            "\n",
            "\tUtilized a tech stack including C#, Microsoft SQL(Database), .NET (Framework), SVN (Repository), Azure, HTML & CSS.\n",
            "\n",
            "\tWipro Limited                                                                                                                                             Gurugram, India     Project Engineer\t(September 2020 – November 2020)\n",
            "\n",
            "\tDevelop and maintain scalable web applications using Python and Flask, focusing on backend logic, RESTful API creation, and database management.\n",
            "\n",
            "\tUtilize Flask framework, SQLAlchemy for database interaction, Git for version control, and deploy application on AWS.\n",
            "\n",
            "\tEnsure optimal application performance, robust API functionality, and seamless frontend integration. Collaborate within Agile teams, emphasizing effective communication, problem-solving, and continuous learning.\n",
            "\n",
            "\t\n",
            "\n",
            "\tPROJECTS\n",
            "\n",
            "\tSTOCK TRADING BOT\n",
            "\n",
            "\tDeveloped a Python-based stock-trading bot using Alpaca API and Code sphere, implementing a moving average strategy. Achieved automation of buy/sell order, showing proficiency in Python, algorithmic logic, and API integration.\n",
            "\n",
            "\tConducted comprehensive backtesting using Alpaca's market data API to evaluate the bot's performance against historical data. Calculated profits and losses, demonstrating analytical skills and strategic thinking in algorithmic trading.\n",
            "\n",
            "\t\n",
            "\n",
            "\tEDUCATION\n",
            "\n",
            "\tUniversity of Liverpool, Management School\tLiverpool, United Kingdom\n",
            "\n",
            "\tMSc Financial Technology (GPA: 3.04/4)\tGraduation: October 2023\n",
            "\n",
            "\t•     Awarded Commonwealth Postgraduate Bursary & VC’s International Attainment Scholarship\n",
            "\n",
            "\t•     Key Modules: Quantitative Techniques for Accounting and Finance | Cryptocurrencies, Blockchain and Future of Money   | Managerial Finance | Digital Banking and Global Payment Systems | Big Data Analytics for Business  \n",
            "\n",
            "\t\n",
            "\n",
            "\tIndian Institute of Technology (Indian School of Mines) Dhanbad\tDhanbad, India\n",
            "\n",
            "\tBachelor of Technology in Engineering Physics with Minor in Computer Science (GPA: 3.3/4)\tGraduation: March 2020\n",
            "\n",
            "•    Key Modules: Data Structures and Algorithms, Database Systems, Object-Oriented Programming, Operating Systems, System design. \n",
            "\n",
            "\tSKILLS & INTERESTS\n",
            "\n",
            "Programming: Python | C# | MS SQL | Java\n",
            "\n",
            "Framework: Flask | .NET | MVC | Springboot \n",
            "\n",
            "Web Development: JavaScript | ReactJS | Nodejs | \n",
            "\n",
            "Version Control and Platform: GitHub | SVN | Azure | Docker, and Kubernetes | Micro-service Architectures | Visual Basic\n",
            "\n",
            "\n",
            "\n",
            "\tADDITIONAL\n",
            "\n",
            "\tAchievements: Listed among the Top 1% of students appeared in IIT JEE Advanced.  (2016)\n",
            "\n",
            "\t                        Listed among the Top 2.5% of students appeared in IIT JEE Mains.   (2016)\n"
          ]
        }
      ]
    },
    {
      "cell_type": "code",
      "source": [
        "JD=docx2txt.process(\"/content/JD.docx\")"
      ],
      "metadata": {
        "id": "SW_GXaCyWwOm"
      },
      "execution_count": 8,
      "outputs": []
    },
    {
      "cell_type": "code",
      "source": [
        "text=[resume,JD]"
      ],
      "metadata": {
        "id": "3uuepXKGXlmV"
      },
      "execution_count": 9,
      "outputs": []
    },
    {
      "cell_type": "code",
      "source": [
        "from sklearn.feature_extraction.text import CountVectorizer"
      ],
      "metadata": {
        "id": "bRlV0epuX8ao"
      },
      "execution_count": 10,
      "outputs": []
    },
    {
      "cell_type": "code",
      "source": [
        "cv=CountVectorizer()"
      ],
      "metadata": {
        "id": "aQPtkHJlYCnv"
      },
      "execution_count": 11,
      "outputs": []
    },
    {
      "cell_type": "code",
      "source": [
        "count_matrix=cv.fit_transform(text)"
      ],
      "metadata": {
        "id": "SX5I11lkYHZS"
      },
      "execution_count": 12,
      "outputs": []
    },
    {
      "cell_type": "code",
      "source": [
        "from sklearn.metrics.pairwise import cosine_similarity"
      ],
      "metadata": {
        "id": "QZvqoX6vYPpB"
      },
      "execution_count": 13,
      "outputs": []
    },
    {
      "cell_type": "code",
      "source": [
        "print(\"similarity score\")"
      ],
      "metadata": {
        "colab": {
          "base_uri": "https://localhost:8080/"
        },
        "id": "uYofnWhTYZHk",
        "outputId": "60584eeb-2af9-45ff-ac37-5e82f882f315"
      },
      "execution_count": 14,
      "outputs": [
        {
          "output_type": "stream",
          "name": "stdout",
          "text": [
            "similarity score\n"
          ]
        }
      ]
    },
    {
      "cell_type": "code",
      "source": [
        "print(cosine_similarity(count_matrix))"
      ],
      "metadata": {
        "colab": {
          "base_uri": "https://localhost:8080/"
        },
        "id": "mnvYOIYaYdtS",
        "outputId": "d42dc6f6-c0bb-4986-e021-536d45b77ad4"
      },
      "execution_count": 15,
      "outputs": [
        {
          "output_type": "stream",
          "name": "stdout",
          "text": [
            "[[1.         0.58938143]\n",
            " [0.58938143 1.        ]]\n"
          ]
        }
      ]
    },
    {
      "cell_type": "code",
      "source": [
        "match_percent=cosine_similarity(count_matrix)[0][1]*100"
      ],
      "metadata": {
        "id": "hbuU39ufYlJ1"
      },
      "execution_count": 16,
      "outputs": []
    },
    {
      "cell_type": "code",
      "source": [
        "match_percentage=round(match_percent)"
      ],
      "metadata": {
        "id": "S2fgVcOwY1Km"
      },
      "execution_count": 17,
      "outputs": []
    },
    {
      "cell_type": "code",
      "source": [
        "print(\"you resume matches about \" + str(match_percentage) + \"% of Job description\")"
      ],
      "metadata": {
        "colab": {
          "base_uri": "https://localhost:8080/"
        },
        "id": "uW3JWLUmY9bx",
        "outputId": "e5253f8a-1826-4f26-a0d6-6b6ba5f63e66"
      },
      "execution_count": 19,
      "outputs": [
        {
          "output_type": "stream",
          "name": "stdout",
          "text": [
            "you resume matches about 59% of Job description\n"
          ]
        }
      ]
    },
    {
      "cell_type": "code",
      "source": [],
      "metadata": {
        "id": "BhgSxhY7ZJEu"
      },
      "execution_count": null,
      "outputs": []
    },
    {
      "cell_type": "markdown",
      "source": [
        "# New Section"
      ],
      "metadata": {
        "id": "VWpnY9vyaWtA"
      }
    }
  ]
}